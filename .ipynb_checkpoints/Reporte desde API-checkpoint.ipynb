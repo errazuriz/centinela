{
 "cells": [
  {
   "cell_type": "code",
   "execution_count": 108,
   "metadata": {},
   "outputs": [],
   "source": [
    "import requests\n",
    "import pandas as pd\n",
    "from datetime import datetime"
   ]
  },
  {
   "cell_type": "markdown",
   "metadata": {},
   "source": [
    "# Generamos archivo con todos los casos"
   ]
  },
  {
   "cell_type": "code",
   "execution_count": 109,
   "metadata": {},
   "outputs": [],
   "source": [
    "url = 'https://covid.renca.cl/rest/s1/cvdcntrl/CaseDetail'\n",
    "params = {'pageNoLimit':'true'}\n",
    "response = requests.get(url=url,params=params, auth=('javier.errazuriz@renca.cl','Covidrenca#1'))\n",
    "data = response.json()\n",
    "casos = pd.DataFrame(data)"
   ]
  },
  {
   "cell_type": "code",
   "execution_count": 110,
   "metadata": {},
   "outputs": [],
   "source": [
    "casos_eliminados = casos['statusId']=='WeCancelled'\n",
    "casos_activos = casos[~casos_eliminados]"
   ]
  },
  {
   "cell_type": "code",
   "execution_count": 111,
   "metadata": {},
   "outputs": [],
   "source": [
    "ahora = pd.Timestamp(\"now\").strftime(\"%Y%m%d_%H_%M_%S\")\n",
    "report_name = \"Listado_Casos_Positivos_\"\n",
    "filename = \"{}{}.xlsx\".format(report_name,ahora)\n",
    "casos_activos.to_excel(filename)"
   ]
  },
  {
   "cell_type": "code",
   "execution_count": 112,
   "metadata": {},
   "outputs": [
    {
     "output_type": "execute_result",
     "data": {
      "text/plain": "0       1.587960e+12\n1       1.588133e+12\n2       1.588133e+12\n3       1.587960e+12\n4       1.587960e+12\n            ...     \n3156             NaN\n3157    1.589515e+12\n3158    1.589256e+12\n3159             NaN\n3160    1.588219e+12\nName: lastTestDate, Length: 3129, dtype: float64"
     },
     "metadata": {},
     "execution_count": 112
    }
   ],
   "source": [
    "casos_activos.loc[:,'lastTestDate']"
   ]
  },
  {
   "cell_type": "code",
   "execution_count": 113,
   "metadata": {},
   "outputs": [
    {
     "output_type": "stream",
     "name": "stdout",
     "text": "<class 'pandas.core.frame.DataFrame'>\nRangeIndex: 3161 entries, 0 to 3160\nData columns (total 19 columns):\n #   Column                          Non-Null Count  Dtype  \n---  ------                          --------------  -----  \n 0   workEffortTypeEnumId            3161 non-null   object \n 1   facilityId                      3161 non-null   object \n 2   actualStartDate                 3161 non-null   int64  \n 3   workEffortId                    3161 non-null   object \n 4   monitoringTeamId                3149 non-null   object \n 5   specialistPartyId               3161 non-null   object \n 6   caseTrackingTypeEnumId          2617 non-null   object \n 7   lastTestDate                    2283 non-null   float64\n 8   lastTestResultsDate             1452 non-null   float64\n 9   lastTestResultsEnumId           2312 non-null   object \n 10  lastPatientStatusEnumId         2118 non-null   object \n 11  caretakerPartyId                1178 non-null   object \n 12  firstFamilyInfection            1826 non-null   object \n 13  observations                    717 non-null    object \n 14  isolation                       1544 non-null   object \n 15  quarantineInYourPrivateAddress  1500 non-null   object \n 16  statusId                        32 non-null     object \n 17  familyContactPartyId            122 non-null    object \n 18  familyContactComment            22 non-null     object \ndtypes: float64(2), int64(1), object(16)\nmemory usage: 469.3+ KB\n"
    }
   ],
   "source": [
    "casos.info()"
   ]
  },
  {
   "cell_type": "code",
   "execution_count": 114,
   "metadata": {},
   "outputs": [
    {
     "output_type": "execute_result",
     "data": {
      "text/plain": "0       1.587614e+09\n1       1.589602e+09\n2       1.589342e+09\n3       1.589429e+09\n4       1.587614e+09\n            ...     \n3156    1.589602e+09\n3157    1.589602e+09\n3158    1.589602e+09\n3159    1.589602e+09\n3160    1.588219e+09\nName: actualStartDate, Length: 3129, dtype: float64"
     },
     "metadata": {},
     "execution_count": 114
    }
   ],
   "source": [
    "casos_activos['actualStartDate']/1000"
   ]
  },
  {
   "cell_type": "code",
   "execution_count": 115,
   "metadata": {},
   "outputs": [
    {
     "output_type": "execute_result",
     "data": {
      "text/plain": "-9223372036854775808"
     },
     "metadata": {},
     "execution_count": 115
    }
   ],
   "source": [
    "fecha "
   ]
  },
  {
   "cell_type": "code",
   "execution_count": 116,
   "metadata": {},
   "outputs": [
    {
     "output_type": "execute_result",
     "data": {
      "text/plain": "workEffortTypeEnumId                   WetCovidCase\nfacilityId                                    20004\nactualStartDate                       1589256000000\nworkEffortId                                 100801\nmonitoringTeamId                              10000\nspecialistPartyId                            102397\ncaseTrackingTypeEnumId            CaTrTyQuarantined\nlastTestDate                            1.58796e+12\nlastTestResultsDate                     1.58796e+12\nlastTestResultsEnumId                CoReTePositive\nlastPatientStatusEnumId                 PaStTyLight\ncaretakerPartyId                             102397\nfirstFamilyInfection                            NaN\nobservations                                    NaN\nisolation                                       NaN\nquarantineInYourPrivateAddress                  NaN\nstatusId                                        NaN\nfamilyContactPartyId                            NaN\nfamilyContactComment                            NaN\nName: 100, dtype: object"
     },
     "metadata": {},
     "execution_count": 116
    }
   ],
   "source": [
    "casos_activos.loc[100]"
   ]
  },
  {
   "cell_type": "code",
   "execution_count": 117,
   "metadata": {},
   "outputs": [
    {
     "output_type": "error",
     "ename": "SyntaxError",
     "evalue": "invalid syntax (<ipython-input-117-44bf66ef1800>, line 1)",
     "traceback": [
      "\u001b[0;36m  File \u001b[0;32m\"<ipython-input-117-44bf66ef1800>\"\u001b[0;36m, line \u001b[0;32m1\u001b[0m\n\u001b[0;31m    transforma_fecha = lambda x: datetime.fromtimestamp(x/1000) if\u001b[0m\n\u001b[0m                                                                   ^\u001b[0m\n\u001b[0;31mSyntaxError\u001b[0m\u001b[0;31m:\u001b[0m invalid syntax\n"
     ]
    }
   ],
   "source": [
    "transforma_fecha = lambda x: datetime.fromtimestamp(x/1000) if "
   ]
  },
  {
   "cell_type": "code",
   "execution_count": 118,
   "metadata": {},
   "outputs": [
    {
     "output_type": "execute_result",
     "data": {
      "text/plain": "0       1587614400000\n1       1589601600000\n2       1589342400000\n3       1589428800000\n4       1587614400000\n            ...      \n3156    1589601600000\n3157    1589601600000\n3158    1589601600000\n3159    1589601600000\n3160    1588219200000\nName: actualStartDate, Length: 3129, dtype: int64"
     },
     "metadata": {},
     "execution_count": 118
    }
   ],
   "source": [
    "casos_activos['actualStartDate']"
   ]
  },
  {
   "cell_type": "code",
   "execution_count": 119,
   "metadata": {},
   "outputs": [
    {
     "output_type": "error",
     "ename": "ValueError",
     "evalue": "year -292275055 is out of range",
     "traceback": [
      "\u001b[0;31m---------------------------------------------------------------------------\u001b[0m",
      "\u001b[0;31mValueError\u001b[0m                                Traceback (most recent call last)",
      "\u001b[0;32m<ipython-input-119-f591a0e177e5>\u001b[0m in \u001b[0;36m<module>\u001b[0;34m\u001b[0m\n\u001b[0;32m----> 1\u001b[0;31m \u001b[0mtransforma_fecha\u001b[0m\u001b[0;34m(\u001b[0m\u001b[0mfecha\u001b[0m\u001b[0;34m)\u001b[0m\u001b[0;34m\u001b[0m\u001b[0;34m\u001b[0m\u001b[0m\n\u001b[0m",
      "\u001b[0;32m<ipython-input-44-94dd3f8b7744>\u001b[0m in \u001b[0;36m<lambda>\u001b[0;34m(x)\u001b[0m\n\u001b[0;32m----> 1\u001b[0;31m \u001b[0mtransforma_fecha\u001b[0m \u001b[0;34m=\u001b[0m \u001b[0;32mlambda\u001b[0m \u001b[0mx\u001b[0m\u001b[0;34m:\u001b[0m  \u001b[0mdatetime\u001b[0m\u001b[0;34m.\u001b[0m\u001b[0mfromtimestamp\u001b[0m\u001b[0;34m(\u001b[0m\u001b[0mx\u001b[0m\u001b[0;34m/\u001b[0m\u001b[0;36m1000\u001b[0m\u001b[0;34m)\u001b[0m\u001b[0;34m\u001b[0m\u001b[0;34m\u001b[0m\u001b[0m\n\u001b[0m",
      "\u001b[0;31mValueError\u001b[0m: year -292275055 is out of range"
     ]
    }
   ],
   "source": [
    "transforma_fecha(fecha)"
   ]
  },
  {
   "cell_type": "code",
   "execution_count": 120,
   "metadata": {},
   "outputs": [
    {
     "output_type": "error",
     "ename": "TypeError",
     "evalue": "Can't parse single argument of type '<class 'numpy.int64'>'",
     "traceback": [
      "\u001b[0;31m---------------------------------------------------------------------------\u001b[0m",
      "\u001b[0;31mTypeError\u001b[0m                                 Traceback (most recent call last)",
      "\u001b[0;32m<ipython-input-120-32dc6c3aca1f>\u001b[0m in \u001b[0;36m<module>\u001b[0;34m\u001b[0m\n\u001b[0;32m----> 1\u001b[0;31m \u001b[0marrow\u001b[0m\u001b[0;34m.\u001b[0m\u001b[0mget\u001b[0m\u001b[0;34m(\u001b[0m\u001b[0mfecha\u001b[0m\u001b[0;34m)\u001b[0m\u001b[0;34m\u001b[0m\u001b[0;34m\u001b[0m\u001b[0m\n\u001b[0m",
      "\u001b[0;32m~/anaconda3/envs/uai/lib/python3.7/site-packages/arrow/api.py\u001b[0m in \u001b[0;36mget\u001b[0;34m(*args, **kwargs)\u001b[0m\n\u001b[1;32m     19\u001b[0m     \"\"\"\n\u001b[1;32m     20\u001b[0m \u001b[0;34m\u001b[0m\u001b[0m\n\u001b[0;32m---> 21\u001b[0;31m     \u001b[0;32mreturn\u001b[0m \u001b[0m_factory\u001b[0m\u001b[0;34m.\u001b[0m\u001b[0mget\u001b[0m\u001b[0;34m(\u001b[0m\u001b[0;34m*\u001b[0m\u001b[0margs\u001b[0m\u001b[0;34m,\u001b[0m \u001b[0;34m**\u001b[0m\u001b[0mkwargs\u001b[0m\u001b[0;34m)\u001b[0m\u001b[0;34m\u001b[0m\u001b[0;34m\u001b[0m\u001b[0m\n\u001b[0m\u001b[1;32m     22\u001b[0m \u001b[0;34m\u001b[0m\u001b[0m\n\u001b[1;32m     23\u001b[0m \u001b[0;34m\u001b[0m\u001b[0m\n",
      "\u001b[0;32m~/anaconda3/envs/uai/lib/python3.7/site-packages/arrow/factory.py\u001b[0m in \u001b[0;36mget\u001b[0;34m(self, *args, **kwargs)\u001b[0m\n\u001b[1;32m    208\u001b[0m             \u001b[0;32melse\u001b[0m\u001b[0;34m:\u001b[0m\u001b[0;34m\u001b[0m\u001b[0;34m\u001b[0m\u001b[0m\n\u001b[1;32m    209\u001b[0m                 raise TypeError(\n\u001b[0;32m--> 210\u001b[0;31m                     \u001b[0;34m\"Can't parse single argument of type '{}'\"\u001b[0m\u001b[0;34m.\u001b[0m\u001b[0mformat\u001b[0m\u001b[0;34m(\u001b[0m\u001b[0mtype\u001b[0m\u001b[0;34m(\u001b[0m\u001b[0marg\u001b[0m\u001b[0;34m)\u001b[0m\u001b[0;34m)\u001b[0m\u001b[0;34m\u001b[0m\u001b[0;34m\u001b[0m\u001b[0m\n\u001b[0m\u001b[1;32m    211\u001b[0m                 )\n\u001b[1;32m    212\u001b[0m \u001b[0;34m\u001b[0m\u001b[0m\n",
      "\u001b[0;31mTypeError\u001b[0m: Can't parse single argument of type '<class 'numpy.int64'>'"
     ]
    }
   ],
   "source": [
    "arrow.get(fecha)"
   ]
  },
  {
   "cell_type": "code",
   "execution_count": null,
   "metadata": {},
   "outputs": [],
   "source": []
  },
  {
   "cell_type": "code",
   "execution_count": null,
   "metadata": {},
   "outputs": [],
   "source": []
  },
  {
   "cell_type": "code",
   "execution_count": null,
   "metadata": {},
   "outputs": [],
   "source": []
  },
  {
   "cell_type": "code",
   "execution_count": null,
   "metadata": {},
   "outputs": [],
   "source": []
  },
  {
   "cell_type": "code",
   "execution_count": null,
   "metadata": {},
   "outputs": [],
   "source": []
  },
  {
   "cell_type": "code",
   "execution_count": null,
   "metadata": {},
   "outputs": [],
   "source": []
  },
  {
   "cell_type": "markdown",
   "metadata": {},
   "source": [
    "# Cargamos el listado de personas (parties)"
   ]
  },
  {
   "cell_type": "code",
   "execution_count": 121,
   "metadata": {},
   "outputs": [],
   "source": [
    "url = 'https://covid.renca.cl/rest/s1/cvdcntrl/Base/PartyDetail'\n",
    "params = {'pageNoLimit':'true'}\n",
    "response = requests.get(url=url,params=params, auth=('javier.errazuriz@renca.cl','Covidrenca#1'))\n",
    "data = response.json()\n",
    "personas = pd.DataFrame(data)"
   ]
  },
  {
   "cell_type": "code",
   "execution_count": 71,
   "metadata": {},
   "outputs": [],
   "source": []
  },
  {
   "cell_type": "code",
   "execution_count": 122,
   "metadata": {},
   "outputs": [
    {
     "output_type": "execute_result",
     "data": {
      "text/plain": "   partyId pseudoId partyTypeEnumId ownerPartyId       firstName    lastName  \\\n0     _NA_     _NA_       PtyPerson         _NA_             Not  Applicable   \n1    10001    10001       PtyPerson         _NA_          Javier   Errázuriz   \n2    10002    10002       PtyPerson         _NA_        Eucaris        Perea   \n3    10003    10003       PtyPerson         _NA_         Alvaro   Villanueva   \n4    10004    10004       PtyPerson         _NA_       Carolina     Carrillo   \n..     ...      ...             ...          ...             ...         ...   \n95  100195   100195       PtyPerson         _NA_           Sofia     Alegria   \n96  100196   100196       PtyPerson         _NA_            Luis     Alegria   \n97  100197   100197       PtyPerson         _NA_         Maribel       Rojas   \n98  100198   100198       PtyPerson         _NA_  Manuel Rodrigo     Quijada   \n99  100199   100199       PtyPerson         _NA_          Sylvia     Vasquez   \n\n     occupation nationality gender     birthDate mothersMaidenName  \\\n0           NaN         NaN    NaN           NaN               NaN   \n1   MeSpTyOther         CHL    NaN           NaN               NaN   \n2   MeSpTyMedic         NaN    NaN           NaN               NaN   \n3    MeSpTyKine         NaN    NaN           NaN               NaN   \n4    MeSpTyDent         NaN    NaN           NaN               NaN   \n..          ...         ...    ...           ...               ...   \n95          NaN         CHL      F  1.443323e+12             Rojas   \n96          NaN         CHL      M  5.626476e+11          Carrasco   \n97          NaN         CHL      F  5.582448e+11          Carrasco   \n98          NaN         CHL      M  7.691472e+11           Miranda   \n99          NaN         CHL      F -2.472624e+11          Sandoval   \n\n   workInHealth healthInsuranceRoleTypeId organizationName  \n0           NaN                       NaN              NaN  \n1           NaN                       NaN              NaN  \n2           NaN                       NaN              NaN  \n3           NaN                       NaN              NaN  \n4           NaN                       NaN              NaN  \n..          ...                       ...              ...  \n95          NaN                       NaN              NaN  \n96          NaN                       NaN              NaN  \n97          NaN                       NaN              NaN  \n98          NaN                       NaN              NaN  \n99          NaN                       NaN              NaN  \n\n[100 rows x 14 columns]",
      "text/html": "<div>\n<style scoped>\n    .dataframe tbody tr th:only-of-type {\n        vertical-align: middle;\n    }\n\n    .dataframe tbody tr th {\n        vertical-align: top;\n    }\n\n    .dataframe thead th {\n        text-align: right;\n    }\n</style>\n<table border=\"1\" class=\"dataframe\">\n  <thead>\n    <tr style=\"text-align: right;\">\n      <th></th>\n      <th>partyId</th>\n      <th>pseudoId</th>\n      <th>partyTypeEnumId</th>\n      <th>ownerPartyId</th>\n      <th>firstName</th>\n      <th>lastName</th>\n      <th>occupation</th>\n      <th>nationality</th>\n      <th>gender</th>\n      <th>birthDate</th>\n      <th>mothersMaidenName</th>\n      <th>workInHealth</th>\n      <th>healthInsuranceRoleTypeId</th>\n      <th>organizationName</th>\n    </tr>\n  </thead>\n  <tbody>\n    <tr>\n      <th>0</th>\n      <td>_NA_</td>\n      <td>_NA_</td>\n      <td>PtyPerson</td>\n      <td>_NA_</td>\n      <td>Not</td>\n      <td>Applicable</td>\n      <td>NaN</td>\n      <td>NaN</td>\n      <td>NaN</td>\n      <td>NaN</td>\n      <td>NaN</td>\n      <td>NaN</td>\n      <td>NaN</td>\n      <td>NaN</td>\n    </tr>\n    <tr>\n      <th>1</th>\n      <td>10001</td>\n      <td>10001</td>\n      <td>PtyPerson</td>\n      <td>_NA_</td>\n      <td>Javier</td>\n      <td>Errázuriz</td>\n      <td>MeSpTyOther</td>\n      <td>CHL</td>\n      <td>NaN</td>\n      <td>NaN</td>\n      <td>NaN</td>\n      <td>NaN</td>\n      <td>NaN</td>\n      <td>NaN</td>\n    </tr>\n    <tr>\n      <th>2</th>\n      <td>10002</td>\n      <td>10002</td>\n      <td>PtyPerson</td>\n      <td>_NA_</td>\n      <td>Eucaris</td>\n      <td>Perea</td>\n      <td>MeSpTyMedic</td>\n      <td>NaN</td>\n      <td>NaN</td>\n      <td>NaN</td>\n      <td>NaN</td>\n      <td>NaN</td>\n      <td>NaN</td>\n      <td>NaN</td>\n    </tr>\n    <tr>\n      <th>3</th>\n      <td>10003</td>\n      <td>10003</td>\n      <td>PtyPerson</td>\n      <td>_NA_</td>\n      <td>Alvaro</td>\n      <td>Villanueva</td>\n      <td>MeSpTyKine</td>\n      <td>NaN</td>\n      <td>NaN</td>\n      <td>NaN</td>\n      <td>NaN</td>\n      <td>NaN</td>\n      <td>NaN</td>\n      <td>NaN</td>\n    </tr>\n    <tr>\n      <th>4</th>\n      <td>10004</td>\n      <td>10004</td>\n      <td>PtyPerson</td>\n      <td>_NA_</td>\n      <td>Carolina</td>\n      <td>Carrillo</td>\n      <td>MeSpTyDent</td>\n      <td>NaN</td>\n      <td>NaN</td>\n      <td>NaN</td>\n      <td>NaN</td>\n      <td>NaN</td>\n      <td>NaN</td>\n      <td>NaN</td>\n    </tr>\n    <tr>\n      <th>...</th>\n      <td>...</td>\n      <td>...</td>\n      <td>...</td>\n      <td>...</td>\n      <td>...</td>\n      <td>...</td>\n      <td>...</td>\n      <td>...</td>\n      <td>...</td>\n      <td>...</td>\n      <td>...</td>\n      <td>...</td>\n      <td>...</td>\n      <td>...</td>\n    </tr>\n    <tr>\n      <th>95</th>\n      <td>100195</td>\n      <td>100195</td>\n      <td>PtyPerson</td>\n      <td>_NA_</td>\n      <td>Sofia</td>\n      <td>Alegria</td>\n      <td>NaN</td>\n      <td>CHL</td>\n      <td>F</td>\n      <td>1.443323e+12</td>\n      <td>Rojas</td>\n      <td>NaN</td>\n      <td>NaN</td>\n      <td>NaN</td>\n    </tr>\n    <tr>\n      <th>96</th>\n      <td>100196</td>\n      <td>100196</td>\n      <td>PtyPerson</td>\n      <td>_NA_</td>\n      <td>Luis</td>\n      <td>Alegria</td>\n      <td>NaN</td>\n      <td>CHL</td>\n      <td>M</td>\n      <td>5.626476e+11</td>\n      <td>Carrasco</td>\n      <td>NaN</td>\n      <td>NaN</td>\n      <td>NaN</td>\n    </tr>\n    <tr>\n      <th>97</th>\n      <td>100197</td>\n      <td>100197</td>\n      <td>PtyPerson</td>\n      <td>_NA_</td>\n      <td>Maribel</td>\n      <td>Rojas</td>\n      <td>NaN</td>\n      <td>CHL</td>\n      <td>F</td>\n      <td>5.582448e+11</td>\n      <td>Carrasco</td>\n      <td>NaN</td>\n      <td>NaN</td>\n      <td>NaN</td>\n    </tr>\n    <tr>\n      <th>98</th>\n      <td>100198</td>\n      <td>100198</td>\n      <td>PtyPerson</td>\n      <td>_NA_</td>\n      <td>Manuel Rodrigo</td>\n      <td>Quijada</td>\n      <td>NaN</td>\n      <td>CHL</td>\n      <td>M</td>\n      <td>7.691472e+11</td>\n      <td>Miranda</td>\n      <td>NaN</td>\n      <td>NaN</td>\n      <td>NaN</td>\n    </tr>\n    <tr>\n      <th>99</th>\n      <td>100199</td>\n      <td>100199</td>\n      <td>PtyPerson</td>\n      <td>_NA_</td>\n      <td>Sylvia</td>\n      <td>Vasquez</td>\n      <td>NaN</td>\n      <td>CHL</td>\n      <td>F</td>\n      <td>-2.472624e+11</td>\n      <td>Sandoval</td>\n      <td>NaN</td>\n      <td>NaN</td>\n      <td>NaN</td>\n    </tr>\n  </tbody>\n</table>\n<p>100 rows × 14 columns</p>\n</div>"
     },
     "metadata": {},
     "execution_count": 122
    }
   ],
   "source": [
    "personas.head(100)"
   ]
  },
  {
   "cell_type": "code",
   "execution_count": 123,
   "metadata": {},
   "outputs": [
    {
     "output_type": "execute_result",
     "data": {
      "text/plain": "partyId                            10001\npseudoId                           10001\npartyTypeEnumId                PtyPerson\nownerPartyId                        _NA_\nfirstName                         Javier\nlastName                       Errázuriz\noccupation                   MeSpTyOther\nnationality                          CHL\ngender                               NaN\nbirthDate                            NaN\nmothersMaidenName                    NaN\nworkInHealth                         NaN\nhealthInsuranceRoleTypeId            NaN\norganizationName                     NaN\nName: 1, dtype: object"
     },
     "metadata": {},
     "execution_count": 123
    }
   ],
   "source": [
    "personas.loc[1]"
   ]
  },
  {
   "cell_type": "code",
   "execution_count": 124,
   "metadata": {},
   "outputs": [],
   "source": [
    "url = 'https://covid.renca.cl/rest/s1/cvdcntrl/CaseTest'\n",
    "params = {'pageNoLimit':'true'}\n",
    "response = requests.get(url=url,params=params, auth=('javier.errazuriz@renca.cl','Covidrenca#1'))\n",
    "data = response.json()\n",
    "tests = pd.DataFrame(data)"
   ]
  },
  {
   "cell_type": "code",
   "execution_count": 125,
   "metadata": {},
   "outputs": [
    {
     "output_type": "stream",
     "name": "stdout",
     "text": "<class 'pandas.core.frame.DataFrame'>\nRangeIndex: 3317 entries, 0 to 3316\nData columns (total 12 columns):\n #   Column               Non-Null Count  Dtype  \n---  ------               --------------  -----  \n 0   caseTestId           3317 non-null   object \n 1   workEffortId         3317 non-null   object \n 2   testTypeEnumId       2445 non-null   object \n 3   testStatusEnumId     3255 non-null   object \n 4   testDate             2439 non-null   float64\n 5   testSiteEnumId       2515 non-null   object \n 6   resultsDate          1577 non-null   float64\n 7   testResultsEnumId    2512 non-null   object \n 8   lastUpdatedStamp     3317 non-null   int64  \n 9   specialistPartyId    2119 non-null   object \n 10  workEffortContentId  67 non-null     object \n 11  testComment          233 non-null    object \ndtypes: float64(2), int64(1), object(9)\nmemory usage: 311.1+ KB\n"
    }
   ],
   "source": [
    "tests.info()"
   ]
  },
  {
   "cell_type": "code",
   "execution_count": 126,
   "metadata": {},
   "outputs": [
    {
     "output_type": "execute_result",
     "data": {
      "text/plain": "  caseTestId workEffortId    testTypeEnumId testStatusEnumId      testDate  \\\n0     100000       100001  CoTyTeNasoOroFar        CoStTeYes  1.583809e+12   \n1     100001       100002  CoTyTeNasoOroFar        CoStTeYes  1.583982e+12   \n2     100002       100003  CoTyTeNasoOroFar        CoStTeYes  1.583982e+12   \n3     100003       100004  CoTyTeNasoOroFar        CoStTeYes  1.584068e+12   \n4     100004       100005       CoTyTeOther  CoStTeYesDenied  1.584241e+12   \n\n    testSiteEnumId   resultsDate testResultsEnumId  lastUpdatedStamp  \\\n0  CoSiTeMunicipal  1.583809e+12    CoReTeNegative     1588297950063   \n1  CoSiTeMunicipal  1.583982e+12    CoReTeNegative     1588297950063   \n2  CoSiTeMunicipal  1.583982e+12    CoReTeNegative     1588297950063   \n3  CoSiTeMunicipal  1.584068e+12    CoReTeNegative     1588297950063   \n4      CoSiTeOther  1.584241e+12  CoReTeTestDenied     1588297950063   \n\n  specialistPartyId workEffortContentId testComment  \n0               NaN                 NaN         NaN  \n1               NaN                 NaN         NaN  \n2               NaN                 NaN         NaN  \n3               NaN                 NaN         NaN  \n4               NaN                 NaN         NaN  ",
      "text/html": "<div>\n<style scoped>\n    .dataframe tbody tr th:only-of-type {\n        vertical-align: middle;\n    }\n\n    .dataframe tbody tr th {\n        vertical-align: top;\n    }\n\n    .dataframe thead th {\n        text-align: right;\n    }\n</style>\n<table border=\"1\" class=\"dataframe\">\n  <thead>\n    <tr style=\"text-align: right;\">\n      <th></th>\n      <th>caseTestId</th>\n      <th>workEffortId</th>\n      <th>testTypeEnumId</th>\n      <th>testStatusEnumId</th>\n      <th>testDate</th>\n      <th>testSiteEnumId</th>\n      <th>resultsDate</th>\n      <th>testResultsEnumId</th>\n      <th>lastUpdatedStamp</th>\n      <th>specialistPartyId</th>\n      <th>workEffortContentId</th>\n      <th>testComment</th>\n    </tr>\n  </thead>\n  <tbody>\n    <tr>\n      <th>0</th>\n      <td>100000</td>\n      <td>100001</td>\n      <td>CoTyTeNasoOroFar</td>\n      <td>CoStTeYes</td>\n      <td>1.583809e+12</td>\n      <td>CoSiTeMunicipal</td>\n      <td>1.583809e+12</td>\n      <td>CoReTeNegative</td>\n      <td>1588297950063</td>\n      <td>NaN</td>\n      <td>NaN</td>\n      <td>NaN</td>\n    </tr>\n    <tr>\n      <th>1</th>\n      <td>100001</td>\n      <td>100002</td>\n      <td>CoTyTeNasoOroFar</td>\n      <td>CoStTeYes</td>\n      <td>1.583982e+12</td>\n      <td>CoSiTeMunicipal</td>\n      <td>1.583982e+12</td>\n      <td>CoReTeNegative</td>\n      <td>1588297950063</td>\n      <td>NaN</td>\n      <td>NaN</td>\n      <td>NaN</td>\n    </tr>\n    <tr>\n      <th>2</th>\n      <td>100002</td>\n      <td>100003</td>\n      <td>CoTyTeNasoOroFar</td>\n      <td>CoStTeYes</td>\n      <td>1.583982e+12</td>\n      <td>CoSiTeMunicipal</td>\n      <td>1.583982e+12</td>\n      <td>CoReTeNegative</td>\n      <td>1588297950063</td>\n      <td>NaN</td>\n      <td>NaN</td>\n      <td>NaN</td>\n    </tr>\n    <tr>\n      <th>3</th>\n      <td>100003</td>\n      <td>100004</td>\n      <td>CoTyTeNasoOroFar</td>\n      <td>CoStTeYes</td>\n      <td>1.584068e+12</td>\n      <td>CoSiTeMunicipal</td>\n      <td>1.584068e+12</td>\n      <td>CoReTeNegative</td>\n      <td>1588297950063</td>\n      <td>NaN</td>\n      <td>NaN</td>\n      <td>NaN</td>\n    </tr>\n    <tr>\n      <th>4</th>\n      <td>100004</td>\n      <td>100005</td>\n      <td>CoTyTeOther</td>\n      <td>CoStTeYesDenied</td>\n      <td>1.584241e+12</td>\n      <td>CoSiTeOther</td>\n      <td>1.584241e+12</td>\n      <td>CoReTeTestDenied</td>\n      <td>1588297950063</td>\n      <td>NaN</td>\n      <td>NaN</td>\n      <td>NaN</td>\n    </tr>\n  </tbody>\n</table>\n</div>"
     },
     "metadata": {},
     "execution_count": 126
    }
   ],
   "source": [
    "tests.head()"
   ]
  },
  {
   "cell_type": "code",
   "execution_count": 127,
   "metadata": {},
   "outputs": [],
   "source": [
    "sorted = tests.sort_values(by=['workEffortId','resultsDate'],ascending=False)"
   ]
  },
  {
   "cell_type": "code",
   "execution_count": 128,
   "metadata": {},
   "outputs": [],
   "source": [
    "tests_rapidos = sorted['testTypeEnumId']=='CoTyTeFastTest'\n",
    "tests_positivos = sorted['testResultsEnumId']=='CoReTePositive'"
   ]
  },
  {
   "cell_type": "code",
   "execution_count": 129,
   "metadata": {},
   "outputs": [],
   "source": [
    "tests_filtrados = sorted[~tests_rapidos & tests_positivos]"
   ]
  },
  {
   "cell_type": "code",
   "execution_count": 130,
   "metadata": {},
   "outputs": [],
   "source": [
    "tests_positivos_duplicados = tests_filtrados[tests_filtrados.duplicated(subset='workEffortId',keep=False)]"
   ]
  },
  {
   "cell_type": "code",
   "execution_count": 131,
   "metadata": {},
   "outputs": [],
   "source": [
    "test_multiples = sorted[sorted.duplicated(subset=['workEffortId','testDate'],keep=False)]"
   ]
  },
  {
   "cell_type": "code",
   "execution_count": null,
   "metadata": {},
   "outputs": [],
   "source": []
  }
 ],
 "metadata": {
  "kernelspec": {
   "display_name": "Python 3.7.7 64-bit ('uai': conda)",
   "language": "python",
   "name": "python37764bituaiconda85b9045e724a4dcb9c4da88c52c671a1"
  },
  "language_info": {
   "codemirror_mode": {
    "name": "ipython",
    "version": 3
   },
   "file_extension": ".py",
   "mimetype": "text/x-python",
   "name": "python",
   "nbconvert_exporter": "python",
   "pygments_lexer": "ipython3",
   "version": "3.7.7-final"
  }
 },
 "nbformat": 4,
 "nbformat_minor": 4
}