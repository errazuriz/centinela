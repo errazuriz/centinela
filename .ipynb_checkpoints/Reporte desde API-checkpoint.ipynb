{
 "cells": [
  {
   "cell_type": "code",
   "execution_count": 30,
   "metadata": {},
   "outputs": [],
   "source": [
    "import requests\n",
    "import pandas as pd\n",
    "from datetime import datetime"
   ]
  },
  {
   "cell_type": "markdown",
   "metadata": {},
   "source": [
    "# Generamos archivo con todos los casos"
   ]
  },
  {
   "cell_type": "code",
   "execution_count": 14,
   "metadata": {},
   "outputs": [],
   "source": [
    "url = 'https://covid.renca.cl/rest/s1/cvdcntrl/CaseDetail'\n",
    "params = {'pageNoLimit':'true'}\n",
    "response = requests.get(url=url,params=params, auth=('javier.errazuriz@renca.cl','Covidrenca#1'))\n",
    "data = response.json()\n",
    "casos = pd.DataFrame(data)"
   ]
  },
  {
   "cell_type": "code",
   "execution_count": 15,
   "metadata": {},
   "outputs": [],
   "source": [
    "casos_eliminados = casos['statusId']=='WeCancelled'\n",
    "casos_activos = casos[~casos_eliminados]"
   ]
  },
  {
   "cell_type": "code",
   "execution_count": 16,
   "metadata": {},
   "outputs": [],
   "source": [
    "ahora = pd.Timestamp(\"now\").strftime(\"%Y%m%d_%H_%M_%S\")\n",
    "report_name = \"Listado_Casos_Positivos_\"\n",
    "filename = \"{}{}.xlsx\".format(report_name,ahora)\n",
    "casos_activos.to_excel(filename)"
   ]
  },
  {
   "cell_type": "code",
   "execution_count": 12,
   "metadata": {},
   "outputs": [
    {
     "output_type": "execute_result",
     "data": {
      "text/plain": "0       1.587960e+12\n1       1.588133e+12\n2       1.588133e+12\n3       1.587960e+12\n4       1.587960e+12\n            ...     \n3116             NaN\n3117    1.589515e+12\n3118    1.589256e+12\n3119             NaN\n3120    1.588219e+12\nName: lastTestDate, Length: 3092, dtype: float64"
     },
     "metadata": {},
     "execution_count": 12
    }
   ],
   "source": [
    "casos_activos.loc[:,'lastTestDate']"
   ]
  },
  {
   "cell_type": "code",
   "execution_count": 35,
   "metadata": {},
   "outputs": [
    {
     "output_type": "stream",
     "name": "stdout",
     "text": "<class 'pandas.core.frame.DataFrame'>\nRangeIndex: 3122 entries, 0 to 3121\nData columns (total 19 columns):\n #   Column                          Non-Null Count  Dtype  \n---  ------                          --------------  -----  \n 0   workEffortTypeEnumId            3122 non-null   object \n 1   facilityId                      3122 non-null   object \n 2   actualStartDate                 3122 non-null   int64  \n 3   workEffortId                    3122 non-null   object \n 4   monitoringTeamId                3116 non-null   object \n 5   specialistPartyId               3122 non-null   object \n 6   caseTrackingTypeEnumId          2592 non-null   object \n 7   lastTestDate                    2265 non-null   float64\n 8   lastTestResultsDate             1439 non-null   float64\n 9   lastTestResultsEnumId           2294 non-null   object \n 10  lastPatientStatusEnumId         2105 non-null   object \n 11  caretakerPartyId                1164 non-null   object \n 12  firstFamilyInfection            1787 non-null   object \n 13  observations                    694 non-null    object \n 14  isolation                       1505 non-null   object \n 15  quarantineInYourPrivateAddress  1461 non-null   object \n 16  statusId                        29 non-null     object \n 17  familyContactPartyId            122 non-null    object \n 18  familyContactComment            22 non-null     object \ndtypes: float64(2), int64(1), object(16)\nmemory usage: 463.5+ KB\n"
    }
   ],
   "source": [
    "casos.info()"
   ]
  },
  {
   "cell_type": "code",
   "execution_count": 64,
   "metadata": {},
   "outputs": [
    {
     "output_type": "execute_result",
     "data": {
      "text/plain": "0       1.587614e+09\n1       1.589602e+09\n2       1.589342e+09\n3       1.589429e+09\n4       1.587614e+09\n            ...     \n3117    1.589602e+09\n3118    1.589602e+09\n3119    1.589602e+09\n3120    1.589602e+09\n3121    1.588219e+09\nName: actualStartDate, Length: 3093, dtype: float64"
     },
     "metadata": {},
     "execution_count": 64
    }
   ],
   "source": [
    "casos_activos['actualStartDate']/1000"
   ]
  },
  {
   "cell_type": "code",
   "execution_count": 60,
   "metadata": {},
   "outputs": [
    {
     "output_type": "execute_result",
     "data": {
      "text/plain": "-9223372036854775808"
     },
     "metadata": {},
     "execution_count": 60
    }
   ],
   "source": [
    "fecha "
   ]
  },
  {
   "cell_type": "code",
   "execution_count": 61,
   "metadata": {},
   "outputs": [
    {
     "output_type": "execute_result",
     "data": {
      "text/plain": "workEffortTypeEnumId                   WetCovidCase\nfacilityId                                    10002\nactualStartDate                       1589428800000\nworkEffortId                                 105485\nmonitoringTeamId                              10002\nspecialistPartyId                             10009\ncaseTrackingTypeEnumId            CaTrTyQuarantined\nlastTestDate                                    NaN\nlastTestResultsDate                             NaN\nlastTestResultsEnumId                           NaN\nlastPatientStatusEnumId                         NaN\ncaretakerPartyId                              10031\nfirstFamilyInfection                              N\nobservations                                    NaN\nisolation                                         Y\nquarantineInYourPrivateAddress                    Y\nstatusId                                        NaN\nfamilyContactPartyId                            NaN\nfamilyContactComment                            NaN\nName: 100, dtype: object"
     },
     "metadata": {},
     "execution_count": 61
    }
   ],
   "source": [
    "casos_activos.loc[100]"
   ]
  },
  {
   "cell_type": "code",
   "execution_count": 44,
   "metadata": {},
   "outputs": [],
   "source": [
    "transforma_fecha = lambda x: datetime.fromtimestamp(x/1000) if "
   ]
  },
  {
   "cell_type": "code",
   "execution_count": 43,
   "metadata": {},
   "outputs": [
    {
     "output_type": "execute_result",
     "data": {
      "text/plain": "0       1587614400000\n1       1589601600000\n2       1589342400000\n3       1589428800000\n4       1587614400000\n            ...      \n3117    1589601600000\n3118    1589601600000\n3119    1589601600000\n3120    1589601600000\n3121    1588219200000\nName: actualStartDate, Length: 3093, dtype: int64"
     },
     "metadata": {},
     "execution_count": 43
    }
   ],
   "source": [
    "casos_activos['actualStartDate']"
   ]
  },
  {
   "cell_type": "code",
   "execution_count": 54,
   "metadata": {},
   "outputs": [
    {
     "output_type": "execute_result",
     "data": {
      "text/plain": "datetime.datetime(2020, 4, 29, 0, 0)"
     },
     "metadata": {},
     "execution_count": 54
    }
   ],
   "source": [
    "transforma_fecha(fecha)"
   ]
  },
  {
   "cell_type": "code",
   "execution_count": 27,
   "metadata": {},
   "outputs": [
    {
     "output_type": "error",
     "ename": "TypeError",
     "evalue": "Can't parse single argument of type '<class 'numpy.int64'>'",
     "traceback": [
      "\u001b[0;31m---------------------------------------------------------------------------\u001b[0m",
      "\u001b[0;31mTypeError\u001b[0m                                 Traceback (most recent call last)",
      "\u001b[0;32m<ipython-input-27-32dc6c3aca1f>\u001b[0m in \u001b[0;36m<module>\u001b[0;34m\u001b[0m\n\u001b[0;32m----> 1\u001b[0;31m \u001b[0marrow\u001b[0m\u001b[0;34m.\u001b[0m\u001b[0mget\u001b[0m\u001b[0;34m(\u001b[0m\u001b[0mfecha\u001b[0m\u001b[0;34m)\u001b[0m\u001b[0;34m\u001b[0m\u001b[0;34m\u001b[0m\u001b[0m\n\u001b[0m",
      "\u001b[0;32m~/anaconda3/envs/uai/lib/python3.7/site-packages/arrow/api.py\u001b[0m in \u001b[0;36mget\u001b[0;34m(*args, **kwargs)\u001b[0m\n\u001b[1;32m     19\u001b[0m     \"\"\"\n\u001b[1;32m     20\u001b[0m \u001b[0;34m\u001b[0m\u001b[0m\n\u001b[0;32m---> 21\u001b[0;31m     \u001b[0;32mreturn\u001b[0m \u001b[0m_factory\u001b[0m\u001b[0;34m.\u001b[0m\u001b[0mget\u001b[0m\u001b[0;34m(\u001b[0m\u001b[0;34m*\u001b[0m\u001b[0margs\u001b[0m\u001b[0;34m,\u001b[0m \u001b[0;34m**\u001b[0m\u001b[0mkwargs\u001b[0m\u001b[0;34m)\u001b[0m\u001b[0;34m\u001b[0m\u001b[0;34m\u001b[0m\u001b[0m\n\u001b[0m\u001b[1;32m     22\u001b[0m \u001b[0;34m\u001b[0m\u001b[0m\n\u001b[1;32m     23\u001b[0m \u001b[0;34m\u001b[0m\u001b[0m\n",
      "\u001b[0;32m~/anaconda3/envs/uai/lib/python3.7/site-packages/arrow/factory.py\u001b[0m in \u001b[0;36mget\u001b[0;34m(self, *args, **kwargs)\u001b[0m\n\u001b[1;32m    208\u001b[0m             \u001b[0;32melse\u001b[0m\u001b[0;34m:\u001b[0m\u001b[0;34m\u001b[0m\u001b[0;34m\u001b[0m\u001b[0m\n\u001b[1;32m    209\u001b[0m                 raise TypeError(\n\u001b[0;32m--> 210\u001b[0;31m                     \u001b[0;34m\"Can't parse single argument of type '{}'\"\u001b[0m\u001b[0;34m.\u001b[0m\u001b[0mformat\u001b[0m\u001b[0;34m(\u001b[0m\u001b[0mtype\u001b[0m\u001b[0;34m(\u001b[0m\u001b[0marg\u001b[0m\u001b[0;34m)\u001b[0m\u001b[0;34m)\u001b[0m\u001b[0;34m\u001b[0m\u001b[0;34m\u001b[0m\u001b[0m\n\u001b[0m\u001b[1;32m    211\u001b[0m                 )\n\u001b[1;32m    212\u001b[0m \u001b[0;34m\u001b[0m\u001b[0m\n",
      "\u001b[0;31mTypeError\u001b[0m: Can't parse single argument of type '<class 'numpy.int64'>'"
     ]
    }
   ],
   "source": [
    "arrow.get(fecha)"
   ]
  },
  {
   "cell_type": "code",
   "execution_count": null,
   "metadata": {},
   "outputs": [],
   "source": []
  },
  {
   "cell_type": "code",
   "execution_count": null,
   "metadata": {},
   "outputs": [],
   "source": []
  },
  {
   "cell_type": "code",
   "execution_count": null,
   "metadata": {},
   "outputs": [],
   "source": []
  },
  {
   "cell_type": "code",
   "execution_count": null,
   "metadata": {},
   "outputs": [],
   "source": []
  },
  {
   "cell_type": "code",
   "execution_count": null,
   "metadata": {},
   "outputs": [],
   "source": []
  },
  {
   "cell_type": "code",
   "execution_count": null,
   "metadata": {},
   "outputs": [],
   "source": []
  },
  {
   "cell_type": "markdown",
   "metadata": {},
   "source": [
    "# Cargamos el listado de personas (parties)"
   ]
  },
  {
   "cell_type": "code",
   "execution_count": 70,
   "metadata": {},
   "outputs": [],
   "source": [
    "url = 'https://covid.renca.cl/rest/s1/cvdcntrl/Base/PartyDetail'\n",
    "params = {'pageNoLimit':'true'}\n",
    "response = requests.get(url=url,params=params, auth=('javier.errazuriz@renca.cl','Covidrenca#1'))\n",
    "data = response.json()\n",
    "personas = pd.DataFrame(data)"
   ]
  },
  {
   "cell_type": "code",
   "execution_count": 71,
   "metadata": {},
   "outputs": [],
   "source": []
  },
  {
   "cell_type": "code",
   "execution_count": 73,
   "metadata": {},
   "outputs": [
    {
     "output_type": "execute_result",
     "data": {
      "text/plain": "   partyId pseudoId partyTypeEnumId ownerPartyId       firstName    lastName  \\\n0     _NA_     _NA_       PtyPerson         _NA_             Not  Applicable   \n1    10001    10001       PtyPerson         _NA_          Javier   Errázuriz   \n2    10002    10002       PtyPerson         _NA_        Eucaris        Perea   \n3    10003    10003       PtyPerson         _NA_         Alvaro   Villanueva   \n4    10004    10004       PtyPerson         _NA_       Carolina     Carrillo   \n..     ...      ...             ...          ...             ...         ...   \n95  100195   100195       PtyPerson         _NA_           Sofia     Alegria   \n96  100196   100196       PtyPerson         _NA_            Luis     Alegria   \n97  100197   100197       PtyPerson         _NA_         Maribel       Rojas   \n98  100198   100198       PtyPerson         _NA_  Manuel Rodrigo     Quijada   \n99  100199   100199       PtyPerson         _NA_          Sylvia     Vasquez   \n\n     occupation nationality gender     birthDate mothersMaidenName  \\\n0           NaN         NaN    NaN           NaN               NaN   \n1   MeSpTyOther         CHL    NaN           NaN               NaN   \n2   MeSpTyMedic         NaN    NaN           NaN               NaN   \n3    MeSpTyKine         NaN    NaN           NaN               NaN   \n4    MeSpTyDent         NaN    NaN           NaN               NaN   \n..          ...         ...    ...           ...               ...   \n95          NaN         CHL      F  1.443323e+12             Rojas   \n96          NaN         CHL      M  5.626476e+11          Carrasco   \n97          NaN         CHL      F  5.582448e+11          Carrasco   \n98          NaN         CHL      M  7.691472e+11           Miranda   \n99          NaN         CHL      F -2.472624e+11          Sandoval   \n\n   workInHealth healthInsuranceRoleTypeId organizationName  \n0           NaN                       NaN              NaN  \n1           NaN                       NaN              NaN  \n2           NaN                       NaN              NaN  \n3           NaN                       NaN              NaN  \n4           NaN                       NaN              NaN  \n..          ...                       ...              ...  \n95          NaN                       NaN              NaN  \n96          NaN                       NaN              NaN  \n97          NaN                       NaN              NaN  \n98          NaN                       NaN              NaN  \n99          NaN                       NaN              NaN  \n\n[100 rows x 14 columns]",
      "text/html": "<div>\n<style scoped>\n    .dataframe tbody tr th:only-of-type {\n        vertical-align: middle;\n    }\n\n    .dataframe tbody tr th {\n        vertical-align: top;\n    }\n\n    .dataframe thead th {\n        text-align: right;\n    }\n</style>\n<table border=\"1\" class=\"dataframe\">\n  <thead>\n    <tr style=\"text-align: right;\">\n      <th></th>\n      <th>partyId</th>\n      <th>pseudoId</th>\n      <th>partyTypeEnumId</th>\n      <th>ownerPartyId</th>\n      <th>firstName</th>\n      <th>lastName</th>\n      <th>occupation</th>\n      <th>nationality</th>\n      <th>gender</th>\n      <th>birthDate</th>\n      <th>mothersMaidenName</th>\n      <th>workInHealth</th>\n      <th>healthInsuranceRoleTypeId</th>\n      <th>organizationName</th>\n    </tr>\n  </thead>\n  <tbody>\n    <tr>\n      <th>0</th>\n      <td>_NA_</td>\n      <td>_NA_</td>\n      <td>PtyPerson</td>\n      <td>_NA_</td>\n      <td>Not</td>\n      <td>Applicable</td>\n      <td>NaN</td>\n      <td>NaN</td>\n      <td>NaN</td>\n      <td>NaN</td>\n      <td>NaN</td>\n      <td>NaN</td>\n      <td>NaN</td>\n      <td>NaN</td>\n    </tr>\n    <tr>\n      <th>1</th>\n      <td>10001</td>\n      <td>10001</td>\n      <td>PtyPerson</td>\n      <td>_NA_</td>\n      <td>Javier</td>\n      <td>Errázuriz</td>\n      <td>MeSpTyOther</td>\n      <td>CHL</td>\n      <td>NaN</td>\n      <td>NaN</td>\n      <td>NaN</td>\n      <td>NaN</td>\n      <td>NaN</td>\n      <td>NaN</td>\n    </tr>\n    <tr>\n      <th>2</th>\n      <td>10002</td>\n      <td>10002</td>\n      <td>PtyPerson</td>\n      <td>_NA_</td>\n      <td>Eucaris</td>\n      <td>Perea</td>\n      <td>MeSpTyMedic</td>\n      <td>NaN</td>\n      <td>NaN</td>\n      <td>NaN</td>\n      <td>NaN</td>\n      <td>NaN</td>\n      <td>NaN</td>\n      <td>NaN</td>\n    </tr>\n    <tr>\n      <th>3</th>\n      <td>10003</td>\n      <td>10003</td>\n      <td>PtyPerson</td>\n      <td>_NA_</td>\n      <td>Alvaro</td>\n      <td>Villanueva</td>\n      <td>MeSpTyKine</td>\n      <td>NaN</td>\n      <td>NaN</td>\n      <td>NaN</td>\n      <td>NaN</td>\n      <td>NaN</td>\n      <td>NaN</td>\n      <td>NaN</td>\n    </tr>\n    <tr>\n      <th>4</th>\n      <td>10004</td>\n      <td>10004</td>\n      <td>PtyPerson</td>\n      <td>_NA_</td>\n      <td>Carolina</td>\n      <td>Carrillo</td>\n      <td>MeSpTyDent</td>\n      <td>NaN</td>\n      <td>NaN</td>\n      <td>NaN</td>\n      <td>NaN</td>\n      <td>NaN</td>\n      <td>NaN</td>\n      <td>NaN</td>\n    </tr>\n    <tr>\n      <th>...</th>\n      <td>...</td>\n      <td>...</td>\n      <td>...</td>\n      <td>...</td>\n      <td>...</td>\n      <td>...</td>\n      <td>...</td>\n      <td>...</td>\n      <td>...</td>\n      <td>...</td>\n      <td>...</td>\n      <td>...</td>\n      <td>...</td>\n      <td>...</td>\n    </tr>\n    <tr>\n      <th>95</th>\n      <td>100195</td>\n      <td>100195</td>\n      <td>PtyPerson</td>\n      <td>_NA_</td>\n      <td>Sofia</td>\n      <td>Alegria</td>\n      <td>NaN</td>\n      <td>CHL</td>\n      <td>F</td>\n      <td>1.443323e+12</td>\n      <td>Rojas</td>\n      <td>NaN</td>\n      <td>NaN</td>\n      <td>NaN</td>\n    </tr>\n    <tr>\n      <th>96</th>\n      <td>100196</td>\n      <td>100196</td>\n      <td>PtyPerson</td>\n      <td>_NA_</td>\n      <td>Luis</td>\n      <td>Alegria</td>\n      <td>NaN</td>\n      <td>CHL</td>\n      <td>M</td>\n      <td>5.626476e+11</td>\n      <td>Carrasco</td>\n      <td>NaN</td>\n      <td>NaN</td>\n      <td>NaN</td>\n    </tr>\n    <tr>\n      <th>97</th>\n      <td>100197</td>\n      <td>100197</td>\n      <td>PtyPerson</td>\n      <td>_NA_</td>\n      <td>Maribel</td>\n      <td>Rojas</td>\n      <td>NaN</td>\n      <td>CHL</td>\n      <td>F</td>\n      <td>5.582448e+11</td>\n      <td>Carrasco</td>\n      <td>NaN</td>\n      <td>NaN</td>\n      <td>NaN</td>\n    </tr>\n    <tr>\n      <th>98</th>\n      <td>100198</td>\n      <td>100198</td>\n      <td>PtyPerson</td>\n      <td>_NA_</td>\n      <td>Manuel Rodrigo</td>\n      <td>Quijada</td>\n      <td>NaN</td>\n      <td>CHL</td>\n      <td>M</td>\n      <td>7.691472e+11</td>\n      <td>Miranda</td>\n      <td>NaN</td>\n      <td>NaN</td>\n      <td>NaN</td>\n    </tr>\n    <tr>\n      <th>99</th>\n      <td>100199</td>\n      <td>100199</td>\n      <td>PtyPerson</td>\n      <td>_NA_</td>\n      <td>Sylvia</td>\n      <td>Vasquez</td>\n      <td>NaN</td>\n      <td>CHL</td>\n      <td>F</td>\n      <td>-2.472624e+11</td>\n      <td>Sandoval</td>\n      <td>NaN</td>\n      <td>NaN</td>\n      <td>NaN</td>\n    </tr>\n  </tbody>\n</table>\n<p>100 rows × 14 columns</p>\n</div>"
     },
     "metadata": {},
     "execution_count": 73
    }
   ],
   "source": [
    "personas.head(100)"
   ]
  },
  {
   "cell_type": "code",
   "execution_count": 79,
   "metadata": {},
   "outputs": [
    {
     "output_type": "execute_result",
     "data": {
      "text/plain": "partyId                            10001\npseudoId                           10001\npartyTypeEnumId                PtyPerson\nownerPartyId                        _NA_\nfirstName                         Javier\nlastName                       Errázuriz\noccupation                   MeSpTyOther\nnationality                          CHL\ngender                               NaN\nbirthDate                            NaN\nmothersMaidenName                    NaN\nworkInHealth                         NaN\nhealthInsuranceRoleTypeId            NaN\norganizationName                     NaN\nName: 1, dtype: object"
     },
     "metadata": {},
     "execution_count": 79
    }
   ],
   "source": [
    "personas.loc[1]"
   ]
  },
  {
   "cell_type": "code",
   "execution_count": 65,
   "metadata": {},
   "outputs": [],
   "source": [
    "url = 'https://covid.renca.cl/rest/s1/cvdcntrl/CaseTest'\n",
    "params = {'pageNoLimit':'true'}\n",
    "response = requests.get(url=url,params=params, auth=('javier.errazuriz@renca.cl','Covidrenca#1'))\n",
    "data = response.json()\n",
    "tests = pd.DataFrame(data)"
   ]
  },
  {
   "cell_type": "code",
   "execution_count": 66,
   "metadata": {},
   "outputs": [
    {
     "output_type": "stream",
     "name": "stdout",
     "text": "<class 'pandas.core.frame.DataFrame'>\nRangeIndex: 3289 entries, 0 to 3288\nData columns (total 12 columns):\n #   Column               Non-Null Count  Dtype  \n---  ------               --------------  -----  \n 0   caseTestId           3289 non-null   object \n 1   workEffortId         3289 non-null   object \n 2   testTypeEnumId       2431 non-null   object \n 3   testStatusEnumId     3227 non-null   object \n 4   testDate             2425 non-null   float64\n 5   testSiteEnumId       2501 non-null   object \n 6   resultsDate          1567 non-null   float64\n 7   testResultsEnumId    2503 non-null   object \n 8   lastUpdatedStamp     3289 non-null   int64  \n 9   specialistPartyId    2080 non-null   object \n 10  workEffortContentId  61 non-null     object \n 11  testComment          227 non-null    object \ndtypes: float64(2), int64(1), object(9)\nmemory usage: 308.5+ KB\n"
    }
   ],
   "source": [
    "tests.info()"
   ]
  },
  {
   "cell_type": "code",
   "execution_count": 67,
   "metadata": {},
   "outputs": [
    {
     "output_type": "execute_result",
     "data": {
      "text/plain": "  caseTestId workEffortId    testTypeEnumId testStatusEnumId      testDate  \\\n0     100000       100001  CoTyTeNasoOroFar        CoStTeYes  1.583809e+12   \n1     100001       100002  CoTyTeNasoOroFar        CoStTeYes  1.583982e+12   \n2     100002       100003  CoTyTeNasoOroFar        CoStTeYes  1.583982e+12   \n3     100003       100004  CoTyTeNasoOroFar        CoStTeYes  1.584068e+12   \n4     100004       100005       CoTyTeOther  CoStTeYesDenied  1.584241e+12   \n\n    testSiteEnumId   resultsDate testResultsEnumId  lastUpdatedStamp  \\\n0  CoSiTeMunicipal  1.583809e+12    CoReTeNegative     1588297950063   \n1  CoSiTeMunicipal  1.583982e+12    CoReTeNegative     1588297950063   \n2  CoSiTeMunicipal  1.583982e+12    CoReTeNegative     1588297950063   \n3  CoSiTeMunicipal  1.584068e+12    CoReTeNegative     1588297950063   \n4      CoSiTeOther  1.584241e+12  CoReTeTestDenied     1588297950063   \n\n  specialistPartyId workEffortContentId testComment  \n0               NaN                 NaN         NaN  \n1               NaN                 NaN         NaN  \n2               NaN                 NaN         NaN  \n3               NaN                 NaN         NaN  \n4               NaN                 NaN         NaN  ",
      "text/html": "<div>\n<style scoped>\n    .dataframe tbody tr th:only-of-type {\n        vertical-align: middle;\n    }\n\n    .dataframe tbody tr th {\n        vertical-align: top;\n    }\n\n    .dataframe thead th {\n        text-align: right;\n    }\n</style>\n<table border=\"1\" class=\"dataframe\">\n  <thead>\n    <tr style=\"text-align: right;\">\n      <th></th>\n      <th>caseTestId</th>\n      <th>workEffortId</th>\n      <th>testTypeEnumId</th>\n      <th>testStatusEnumId</th>\n      <th>testDate</th>\n      <th>testSiteEnumId</th>\n      <th>resultsDate</th>\n      <th>testResultsEnumId</th>\n      <th>lastUpdatedStamp</th>\n      <th>specialistPartyId</th>\n      <th>workEffortContentId</th>\n      <th>testComment</th>\n    </tr>\n  </thead>\n  <tbody>\n    <tr>\n      <th>0</th>\n      <td>100000</td>\n      <td>100001</td>\n      <td>CoTyTeNasoOroFar</td>\n      <td>CoStTeYes</td>\n      <td>1.583809e+12</td>\n      <td>CoSiTeMunicipal</td>\n      <td>1.583809e+12</td>\n      <td>CoReTeNegative</td>\n      <td>1588297950063</td>\n      <td>NaN</td>\n      <td>NaN</td>\n      <td>NaN</td>\n    </tr>\n    <tr>\n      <th>1</th>\n      <td>100001</td>\n      <td>100002</td>\n      <td>CoTyTeNasoOroFar</td>\n      <td>CoStTeYes</td>\n      <td>1.583982e+12</td>\n      <td>CoSiTeMunicipal</td>\n      <td>1.583982e+12</td>\n      <td>CoReTeNegative</td>\n      <td>1588297950063</td>\n      <td>NaN</td>\n      <td>NaN</td>\n      <td>NaN</td>\n    </tr>\n    <tr>\n      <th>2</th>\n      <td>100002</td>\n      <td>100003</td>\n      <td>CoTyTeNasoOroFar</td>\n      <td>CoStTeYes</td>\n      <td>1.583982e+12</td>\n      <td>CoSiTeMunicipal</td>\n      <td>1.583982e+12</td>\n      <td>CoReTeNegative</td>\n      <td>1588297950063</td>\n      <td>NaN</td>\n      <td>NaN</td>\n      <td>NaN</td>\n    </tr>\n    <tr>\n      <th>3</th>\n      <td>100003</td>\n      <td>100004</td>\n      <td>CoTyTeNasoOroFar</td>\n      <td>CoStTeYes</td>\n      <td>1.584068e+12</td>\n      <td>CoSiTeMunicipal</td>\n      <td>1.584068e+12</td>\n      <td>CoReTeNegative</td>\n      <td>1588297950063</td>\n      <td>NaN</td>\n      <td>NaN</td>\n      <td>NaN</td>\n    </tr>\n    <tr>\n      <th>4</th>\n      <td>100004</td>\n      <td>100005</td>\n      <td>CoTyTeOther</td>\n      <td>CoStTeYesDenied</td>\n      <td>1.584241e+12</td>\n      <td>CoSiTeOther</td>\n      <td>1.584241e+12</td>\n      <td>CoReTeTestDenied</td>\n      <td>1588297950063</td>\n      <td>NaN</td>\n      <td>NaN</td>\n      <td>NaN</td>\n    </tr>\n  </tbody>\n</table>\n</div>"
     },
     "metadata": {},
     "execution_count": 67
    }
   ],
   "source": [
    "tests.head()"
   ]
  },
  {
   "cell_type": "code",
   "execution_count": 69,
   "metadata": {},
   "outputs": [
    {
     "output_type": "error",
     "ename": "KeyError",
     "evalue": "'Passing list-likes to .loc or [] with any missing labels is no longer supported, see https://pandas.pydata.org/pandas-docs/stable/user_guide/indexing.html#deprecate-loc-reindex-listlike'",
     "traceback": [
      "\u001b[0;31m---------------------------------------------------------------------------\u001b[0m",
      "\u001b[0;31mKeyError\u001b[0m                                  Traceback (most recent call last)",
      "\u001b[0;32m<ipython-input-69-16f14adafb9d>\u001b[0m in \u001b[0;36m<module>\u001b[0;34m\u001b[0m\n\u001b[0;32m----> 1\u001b[0;31m \u001b[0mtests\u001b[0m\u001b[0;34m.\u001b[0m\u001b[0mloc\u001b[0m\u001b[0;34m[\u001b[0m\u001b[0mtests\u001b[0m\u001b[0;34m.\u001b[0m\u001b[0mgroupby\u001b[0m\u001b[0;34m(\u001b[0m\u001b[0;34m'workEffortId'\u001b[0m\u001b[0;34m)\u001b[0m\u001b[0;34m.\u001b[0m\u001b[0mresultsDate\u001b[0m\u001b[0;34m.\u001b[0m\u001b[0midxmax\u001b[0m\u001b[0;34m(\u001b[0m\u001b[0;34m)\u001b[0m\u001b[0;34m,\u001b[0m\u001b[0;34m:\u001b[0m\u001b[0;34m]\u001b[0m\u001b[0;34m\u001b[0m\u001b[0;34m\u001b[0m\u001b[0m\n\u001b[0m",
      "\u001b[0;32m~/anaconda3/envs/uai/lib/python3.7/site-packages/pandas/core/indexing.py\u001b[0m in \u001b[0;36m__getitem__\u001b[0;34m(self, key)\u001b[0m\n\u001b[1;32m   1760\u001b[0m                 \u001b[0;32mexcept\u001b[0m \u001b[0;34m(\u001b[0m\u001b[0mKeyError\u001b[0m\u001b[0;34m,\u001b[0m \u001b[0mIndexError\u001b[0m\u001b[0;34m,\u001b[0m \u001b[0mAttributeError\u001b[0m\u001b[0;34m)\u001b[0m\u001b[0;34m:\u001b[0m\u001b[0;34m\u001b[0m\u001b[0;34m\u001b[0m\u001b[0m\n\u001b[1;32m   1761\u001b[0m                     \u001b[0;32mpass\u001b[0m\u001b[0;34m\u001b[0m\u001b[0;34m\u001b[0m\u001b[0m\n\u001b[0;32m-> 1762\u001b[0;31m             \u001b[0;32mreturn\u001b[0m \u001b[0mself\u001b[0m\u001b[0;34m.\u001b[0m\u001b[0m_getitem_tuple\u001b[0m\u001b[0;34m(\u001b[0m\u001b[0mkey\u001b[0m\u001b[0;34m)\u001b[0m\u001b[0;34m\u001b[0m\u001b[0;34m\u001b[0m\u001b[0m\n\u001b[0m\u001b[1;32m   1763\u001b[0m         \u001b[0;32melse\u001b[0m\u001b[0;34m:\u001b[0m\u001b[0;34m\u001b[0m\u001b[0;34m\u001b[0m\u001b[0m\n\u001b[1;32m   1764\u001b[0m             \u001b[0;31m# we by definition only have the 0th axis\u001b[0m\u001b[0;34m\u001b[0m\u001b[0;34m\u001b[0m\u001b[0;34m\u001b[0m\u001b[0m\n",
      "\u001b[0;32m~/anaconda3/envs/uai/lib/python3.7/site-packages/pandas/core/indexing.py\u001b[0m in \u001b[0;36m_getitem_tuple\u001b[0;34m(self, tup)\u001b[0m\n\u001b[1;32m   1287\u001b[0m                 \u001b[0;32mcontinue\u001b[0m\u001b[0;34m\u001b[0m\u001b[0;34m\u001b[0m\u001b[0m\n\u001b[1;32m   1288\u001b[0m \u001b[0;34m\u001b[0m\u001b[0m\n\u001b[0;32m-> 1289\u001b[0;31m             \u001b[0mretval\u001b[0m \u001b[0;34m=\u001b[0m \u001b[0mgetattr\u001b[0m\u001b[0;34m(\u001b[0m\u001b[0mretval\u001b[0m\u001b[0;34m,\u001b[0m \u001b[0mself\u001b[0m\u001b[0;34m.\u001b[0m\u001b[0mname\u001b[0m\u001b[0;34m)\u001b[0m\u001b[0;34m.\u001b[0m\u001b[0m_getitem_axis\u001b[0m\u001b[0;34m(\u001b[0m\u001b[0mkey\u001b[0m\u001b[0;34m,\u001b[0m \u001b[0maxis\u001b[0m\u001b[0;34m=\u001b[0m\u001b[0mi\u001b[0m\u001b[0;34m)\u001b[0m\u001b[0;34m\u001b[0m\u001b[0;34m\u001b[0m\u001b[0m\n\u001b[0m\u001b[1;32m   1290\u001b[0m \u001b[0;34m\u001b[0m\u001b[0m\n\u001b[1;32m   1291\u001b[0m         \u001b[0;32mreturn\u001b[0m \u001b[0mretval\u001b[0m\u001b[0;34m\u001b[0m\u001b[0;34m\u001b[0m\u001b[0m\n",
      "\u001b[0;32m~/anaconda3/envs/uai/lib/python3.7/site-packages/pandas/core/indexing.py\u001b[0m in \u001b[0;36m_getitem_axis\u001b[0;34m(self, key, axis)\u001b[0m\n\u001b[1;32m   1952\u001b[0m                     \u001b[0;32mraise\u001b[0m \u001b[0mValueError\u001b[0m\u001b[0;34m(\u001b[0m\u001b[0;34m\"Cannot index with multidimensional key\"\u001b[0m\u001b[0;34m)\u001b[0m\u001b[0;34m\u001b[0m\u001b[0;34m\u001b[0m\u001b[0m\n\u001b[1;32m   1953\u001b[0m \u001b[0;34m\u001b[0m\u001b[0m\n\u001b[0;32m-> 1954\u001b[0;31m                 \u001b[0;32mreturn\u001b[0m \u001b[0mself\u001b[0m\u001b[0;34m.\u001b[0m\u001b[0m_getitem_iterable\u001b[0m\u001b[0;34m(\u001b[0m\u001b[0mkey\u001b[0m\u001b[0;34m,\u001b[0m \u001b[0maxis\u001b[0m\u001b[0;34m=\u001b[0m\u001b[0maxis\u001b[0m\u001b[0;34m)\u001b[0m\u001b[0;34m\u001b[0m\u001b[0;34m\u001b[0m\u001b[0m\n\u001b[0m\u001b[1;32m   1955\u001b[0m \u001b[0;34m\u001b[0m\u001b[0m\n\u001b[1;32m   1956\u001b[0m             \u001b[0;31m# nested tuple slicing\u001b[0m\u001b[0;34m\u001b[0m\u001b[0;34m\u001b[0m\u001b[0;34m\u001b[0m\u001b[0m\n",
      "\u001b[0;32m~/anaconda3/envs/uai/lib/python3.7/site-packages/pandas/core/indexing.py\u001b[0m in \u001b[0;36m_getitem_iterable\u001b[0;34m(self, key, axis)\u001b[0m\n\u001b[1;32m   1593\u001b[0m         \u001b[0;32melse\u001b[0m\u001b[0;34m:\u001b[0m\u001b[0;34m\u001b[0m\u001b[0;34m\u001b[0m\u001b[0m\n\u001b[1;32m   1594\u001b[0m             \u001b[0;31m# A collection of keys\u001b[0m\u001b[0;34m\u001b[0m\u001b[0;34m\u001b[0m\u001b[0;34m\u001b[0m\u001b[0m\n\u001b[0;32m-> 1595\u001b[0;31m             \u001b[0mkeyarr\u001b[0m\u001b[0;34m,\u001b[0m \u001b[0mindexer\u001b[0m \u001b[0;34m=\u001b[0m \u001b[0mself\u001b[0m\u001b[0;34m.\u001b[0m\u001b[0m_get_listlike_indexer\u001b[0m\u001b[0;34m(\u001b[0m\u001b[0mkey\u001b[0m\u001b[0;34m,\u001b[0m \u001b[0maxis\u001b[0m\u001b[0;34m,\u001b[0m \u001b[0mraise_missing\u001b[0m\u001b[0;34m=\u001b[0m\u001b[0;32mFalse\u001b[0m\u001b[0;34m)\u001b[0m\u001b[0;34m\u001b[0m\u001b[0;34m\u001b[0m\u001b[0m\n\u001b[0m\u001b[1;32m   1596\u001b[0m             return self.obj._reindex_with_indexers(\n\u001b[1;32m   1597\u001b[0m                 \u001b[0;34m{\u001b[0m\u001b[0maxis\u001b[0m\u001b[0;34m:\u001b[0m \u001b[0;34m[\u001b[0m\u001b[0mkeyarr\u001b[0m\u001b[0;34m,\u001b[0m \u001b[0mindexer\u001b[0m\u001b[0;34m]\u001b[0m\u001b[0;34m}\u001b[0m\u001b[0;34m,\u001b[0m \u001b[0mcopy\u001b[0m\u001b[0;34m=\u001b[0m\u001b[0;32mTrue\u001b[0m\u001b[0;34m,\u001b[0m \u001b[0mallow_dups\u001b[0m\u001b[0;34m=\u001b[0m\u001b[0;32mTrue\u001b[0m\u001b[0;34m\u001b[0m\u001b[0;34m\u001b[0m\u001b[0m\n",
      "\u001b[0;32m~/anaconda3/envs/uai/lib/python3.7/site-packages/pandas/core/indexing.py\u001b[0m in \u001b[0;36m_get_listlike_indexer\u001b[0;34m(self, key, axis, raise_missing)\u001b[0m\n\u001b[1;32m   1551\u001b[0m \u001b[0;34m\u001b[0m\u001b[0m\n\u001b[1;32m   1552\u001b[0m         self._validate_read_indexer(\n\u001b[0;32m-> 1553\u001b[0;31m             \u001b[0mkeyarr\u001b[0m\u001b[0;34m,\u001b[0m \u001b[0mindexer\u001b[0m\u001b[0;34m,\u001b[0m \u001b[0mo\u001b[0m\u001b[0;34m.\u001b[0m\u001b[0m_get_axis_number\u001b[0m\u001b[0;34m(\u001b[0m\u001b[0maxis\u001b[0m\u001b[0;34m)\u001b[0m\u001b[0;34m,\u001b[0m \u001b[0mraise_missing\u001b[0m\u001b[0;34m=\u001b[0m\u001b[0mraise_missing\u001b[0m\u001b[0;34m\u001b[0m\u001b[0;34m\u001b[0m\u001b[0m\n\u001b[0m\u001b[1;32m   1554\u001b[0m         )\n\u001b[1;32m   1555\u001b[0m         \u001b[0;32mreturn\u001b[0m \u001b[0mkeyarr\u001b[0m\u001b[0;34m,\u001b[0m \u001b[0mindexer\u001b[0m\u001b[0;34m\u001b[0m\u001b[0;34m\u001b[0m\u001b[0m\n",
      "\u001b[0;32m~/anaconda3/envs/uai/lib/python3.7/site-packages/pandas/core/indexing.py\u001b[0m in \u001b[0;36m_validate_read_indexer\u001b[0;34m(self, key, indexer, axis, raise_missing)\u001b[0m\n\u001b[1;32m   1653\u001b[0m             \u001b[0;32mif\u001b[0m \u001b[0;32mnot\u001b[0m \u001b[0;34m(\u001b[0m\u001b[0max\u001b[0m\u001b[0;34m.\u001b[0m\u001b[0mis_categorical\u001b[0m\u001b[0;34m(\u001b[0m\u001b[0;34m)\u001b[0m \u001b[0;32mor\u001b[0m \u001b[0max\u001b[0m\u001b[0;34m.\u001b[0m\u001b[0mis_interval\u001b[0m\u001b[0;34m(\u001b[0m\u001b[0;34m)\u001b[0m\u001b[0;34m)\u001b[0m\u001b[0;34m:\u001b[0m\u001b[0;34m\u001b[0m\u001b[0;34m\u001b[0m\u001b[0m\n\u001b[1;32m   1654\u001b[0m                 raise KeyError(\n\u001b[0;32m-> 1655\u001b[0;31m                     \u001b[0;34m\"Passing list-likes to .loc or [] with any missing labels \"\u001b[0m\u001b[0;34m\u001b[0m\u001b[0;34m\u001b[0m\u001b[0m\n\u001b[0m\u001b[1;32m   1656\u001b[0m                     \u001b[0;34m\"is no longer supported, see \"\u001b[0m\u001b[0;34m\u001b[0m\u001b[0;34m\u001b[0m\u001b[0m\n\u001b[1;32m   1657\u001b[0m                     \u001b[0;34m\"https://pandas.pydata.org/pandas-docs/stable/user_guide/indexing.html#deprecate-loc-reindex-listlike\"\u001b[0m  \u001b[0;31m# noqa:E501\u001b[0m\u001b[0;34m\u001b[0m\u001b[0;34m\u001b[0m\u001b[0m\n",
      "\u001b[0;31mKeyError\u001b[0m: 'Passing list-likes to .loc or [] with any missing labels is no longer supported, see https://pandas.pydata.org/pandas-docs/stable/user_guide/indexing.html#deprecate-loc-reindex-listlike'"
     ]
    }
   ],
   "source": [
    "tests.loc[tests.groupby('workEffortId').resultsDate.idxmax(),:]"
   ]
  },
  {
   "cell_type": "code",
   "execution_count": 71,
   "metadata": {},
   "outputs": [],
   "source": [
    "sorted = tests.sort_values(by=['workEffortId','resultsDate'],ascending=False)"
   ]
  },
  {
   "cell_type": "code",
   "execution_count": 94,
   "metadata": {},
   "outputs": [],
   "source": [
    "tests_rapidos = sorted['testTypeEnumId']=='CoTyTeFastTest'\n",
    "tests_positivos = sorted['testResultsEnumId']=='CoReTePositive'"
   ]
  },
  {
   "cell_type": "code",
   "execution_count": 88,
   "metadata": {},
   "outputs": [
    {
     "output_type": "error",
     "ename": "SyntaxError",
     "evalue": "invalid syntax (<ipython-input-88-34c9c4948923>, line 1)",
     "traceback": [
      "\u001b[0;36m  File \u001b[0;32m\"<ipython-input-88-34c9c4948923>\"\u001b[0;36m, line \u001b[0;32m1\u001b[0m\n\u001b[0;31m    test_rapidos AND test_positivos\u001b[0m\n\u001b[0m                   ^\u001b[0m\n\u001b[0;31mSyntaxError\u001b[0m\u001b[0;31m:\u001b[0m invalid syntax\n"
     ]
    }
   ],
   "source": []
  },
  {
   "cell_type": "code",
   "execution_count": 95,
   "metadata": {},
   "outputs": [],
   "source": [
    "tests_filtrados = sorted[~tests_rapidos & tests_positivos]"
   ]
  },
  {
   "cell_type": "code",
   "execution_count": 104,
   "metadata": {},
   "outputs": [],
   "source": [
    "tests_positivos_duplicados = tests_filtrados[tests_filtrados.duplicated(subset='workEffortId',keep=False)]"
   ]
  },
  {
   "cell_type": "code",
   "execution_count": 107,
   "metadata": {},
   "outputs": [],
   "source": [
    "test_multiples = sorted[sorted.duplicated(subset=['workEffortId','testDate'],keep=False)]"
   ]
  },
  {
   "cell_type": "code",
   "execution_count": null,
   "metadata": {},
   "outputs": [],
   "source": [
    "test_"
   ]
  }
 ],
 "metadata": {
  "kernelspec": {
   "display_name": "Python 3.7.7 64-bit ('uai': conda)",
   "language": "python",
   "name": "python37764bituaiconda85b9045e724a4dcb9c4da88c52c671a1"
  },
  "language_info": {
   "codemirror_mode": {
    "name": "ipython",
    "version": 3
   },
   "file_extension": ".py",
   "mimetype": "text/x-python",
   "name": "python",
   "nbconvert_exporter": "python",
   "pygments_lexer": "ipython3",
   "version": "3.7.7-final"
  }
 },
 "nbformat": 4,
 "nbformat_minor": 4
}